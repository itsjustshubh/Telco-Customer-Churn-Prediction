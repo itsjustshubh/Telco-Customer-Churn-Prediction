{
 "nbformat": 4,
 "nbformat_minor": 0,
 "metadata": {
  "colab": {
   "provenance": [],
   "toc_visible": true
  },
  "kernelspec": {
   "name": "python3",
   "language": "python",
   "display_name": "Python 3 (ipykernel)"
  },
  "language_info": {
   "name": "python"
  }
 },
 "cells": [
  {
   "cell_type": "markdown",
   "source": [
    "# Introduction\n",
    "\n",
    "This Jupyter Notebook is designed as a comprehensive guide to the application of various machine learning and deep learning techniques for a classification problem. The primary focus is on the prediction of customer churn in a telecommunications company, a common and critical issue in the industry. By accurately predicting churn, companies can devise strategies to retain customers, thereby improving business sustainability and profitability.\n",
    "\n",
    "## Dataset Overview\n",
    "\n",
    "The dataset used in this analysis is the \"Telco Customer Churn\" dataset, which contains information about a telecom company's customers and their churn status. Key features include customer demographics, account information, and the services they have subscribed to. The target variable is 'Churn', indicating whether a customer has left the company within the last month.\n",
    "\n",
    "## Problem Statement\n",
    "\n",
    "The objective is to build and compare various predictive models to effectively predict customer churn. We will explore traditional machine learning models like Logistic Regression, Decision Trees, and Random Forests, alongside more complex deep learning models such as Neural Networks, Convolutional Neural Networks (CNNs), Recurrent Neural Networks (RNNs), and hybrid models. The performance of these models will be evaluated and compared to select the best approach for predicting customer churn.\n",
    "\n",
    "The analysis will proceed through several stages, including data preprocessing, exploratory data analysis (EDA), model building, training, evaluation, and hyperparameter tuning. This structured approach ensures a thorough examination of the dataset and the application of machine learning and deep learning techniques to solve a real-world problem in the telecommunications sector."
   ],
   "metadata": {
    "id": "qBQPkC_jQTd_"
   }
  },
  {
   "cell_type": "markdown",
   "source": [
    "# Setup\n",
    "\n",
    "Before diving into the analysis, it's crucial to set up our environment by installing and importing the necessary libraries. These libraries provide a wide range of functionalities, from data manipulation and visualization to building and evaluating various machine learning and deep learning models.\n",
    "\n",
    "## Libraries Used\n",
    "\n",
    "- `NumPy` and `Pandas`: For efficient data manipulation and analysis.\n",
    "- `Matplotlib` and `Seaborn`: For data visualization.\n",
    "- `TensorFlow`: An open-source library for machine learning and deep learning applications.\n",
    "- `Scikit-learn`: A tool for data mining and data analysis, particularly useful for its machine learning algorithms.\n",
    "- `imblearn`: For handling imbalanced datasets using techniques like SMOTE (Synthetic Minority Over-sampling Technique).\n",
    "\n",
    "By importing these libraries, we ensure that all the necessary tools are available for each step of our analysis."
   ],
   "metadata": {
    "id": "u2CHigUhQzL2"
   }
  },
  {
   "cell_type": "code",
   "source": [
    "# Importing necessary libraries\n",
    "import numpy as np\n",
    "import pandas as pd\n",
    "import matplotlib.pyplot as plt\n",
    "import seaborn as sns\n",
    "import tensorflow as tf\n",
    "from sklearn.compose import ColumnTransformer\n",
    "from sklearn.impute import SimpleImputer\n",
    "from sklearn.linear_model import LogisticRegression\n",
    "from sklearn.metrics import accuracy_score, classification_report\n",
    "from sklearn.model_selection import GridSearchCV, train_test_split, cross_val_score\n",
    "from sklearn.pipeline import Pipeline\n",
    "from sklearn.preprocessing import StandardScaler, OneHotEncoder\n",
    "from sklearn.tree import DecisionTreeClassifier\n",
    "from sklearn.ensemble import RandomForestClassifier\n",
    "from sklearn.svm import SVC\n",
    "from sklearn.neighbors import KNeighborsClassifier\n",
    "from sklearn.ensemble import GradientBoostingClassifier\n",
    "from sklearn.naive_bayes import GaussianNB\n",
    "from imblearn.over_sampling import SMOTE\n",
    "from tensorflow.keras.layers import Input, Conv1D, MaxPooling1D, Flatten, LSTM, Dense, concatenate, Dropout, GaussianNoise\n",
    "from tensorflow.keras.models import Model\n",
    "from tensorflow.keras import Sequential"
   ],
   "metadata": {
    "id": "8fHbNPv2Q-O4",
    "ExecuteTime": {
     "end_time": "2023-12-18T19:35:42.680319Z",
     "start_time": "2023-12-18T19:35:42.678814Z"
    }
   },
   "execution_count": 25,
   "outputs": []
  },
  {
   "cell_type": "markdown",
   "source": [
    "# Data Loading and Preprocessing\n",
    "\n",
    "In this section, we will focus on loading the dataset and preparing it for analysis. Data preprocessing is a crucial step in any data analysis and machine learning project. It involves cleaning and transforming raw data into a format that is more suitable for building predictive models. Our preprocessing steps will include handling missing values, encoding categorical variables, and scaling numerical features.\n",
    "\n",
    "## Key Steps in Data Preprocessing\n",
    "\n",
    "1. **Loading Data**: Importing the dataset into a Pandas DataFrame.\n",
    "2. **Handling Missing Values**: Identifying and imputing missing values, especially in crucial columns.\n",
    "3. **Feature Encoding**: Converting categorical variables into a form that can be provided to ML algorithms.\n",
    "4. **Feature Scaling**: Normalizing or standardizing numerical features so that they are on the same scale.\n",
    "5. **Data Transformation**: Applying transformations to prepare the dataset for model training and testing.\n",
    "\n",
    "## Preprocessing Function\n",
    "\n",
    "We will define a function `load_and_preprocess_data` which will carry out these preprocessing steps. This function will take the file path of the dataset as an input and return the preprocessed features (`X`), target variable (`y`), a preprocessor object for transforming new data, and the DataFrame for EDA."
   ],
   "metadata": {
    "id": "x-y_l7sYRUxS"
   }
  },
  {
   "cell_type": "code",
   "source": [
    "# Function to load and preprocess the dataset\n",
    "def load_and_preprocess_data(filepath):\n",
    "    df = pd.read_csv(filepath)\n",
    "\n",
    "    # Convert 'TotalCharges' to numeric and handle non-numeric entries\n",
    "    df['TotalCharges'] = pd.to_numeric(df['TotalCharges'], errors='coerce')\n",
    "\n",
    "    # Impute missing values\n",
    "    imputer = SimpleImputer(strategy='mean')\n",
    "    df['TotalCharges'] = imputer.fit_transform(df[['TotalCharges']])\n",
    "\n",
    "    # Defining categorical and numerical features\n",
    "    categorical_features = ['gender', 'PaymentMethod', 'InternetService']\n",
    "    numeric_features = ['tenure', 'MonthlyCharges', 'TotalCharges']\n",
    "\n",
    "    # Preprocessing steps\n",
    "    preprocessor = ColumnTransformer(\n",
    "        transformers=[\n",
    "            ('num', StandardScaler(), numeric_features),\n",
    "            ('cat', OneHotEncoder(), categorical_features)])\n",
    "\n",
    "    X = df.drop('Churn', axis=1)\n",
    "    y = df['Churn'].apply(lambda x: 1 if x == 'Yes' else 0)\n",
    "\n",
    "    return X, y, preprocessor, df"
   ],
   "metadata": {
    "id": "Zq3S9z93RXa6",
    "ExecuteTime": {
     "end_time": "2023-12-18T19:35:42.687303Z",
     "start_time": "2023-12-18T19:35:42.682730Z"
    }
   },
   "execution_count": 26,
   "outputs": []
  },
  {
   "cell_type": "markdown",
   "source": [
    "# Exploratory Data Analysis (EDA)\n",
    "\n",
    "Exploratory Data Analysis, or EDA, is a critical step in the data analysis process. It allows us to understand the data, identify patterns and anomalies, and formulate hypotheses. EDA involves summarizing the main characteristics of the dataset, often with visual methods. In this section, we will perform EDA on our dataset to gain insights into the relationships between different features and the target variable, `Churn`.\n",
    "\n",
    "## Objectives of EDA\n",
    "\n",
    "1. **Understanding the Data**: Get an overview of the dataset, including data types, number of rows/columns, and basic statistics.\n",
    "2. **Detecting Outliers and Anomalies**: Identify any unusual observations in the dataset which might be errors or require special handling.\n",
    "3. **Analyzing Relationships between Variables**: Explore how different features relate to each other and to the target variable.\n",
    "\n",
    "## EDA Function\n",
    "\n",
    "We will define a function `perform_eda` that encapsulates various EDA steps. This function will take the DataFrame as input and perform operations like statistical summary, correlation analysis, and visualizations."
   ],
   "metadata": {
    "id": "GS-iqGIvSMx4"
   }
  },
  {
   "cell_type": "code",
   "source": [
    "# Function to perform exploratory data analysis (EDA)\n",
    "def perform_eda(df):\n",
    "    print(\"Statistical Summary:\")\n",
    "    print(df.describe())\n",
    "\n",
    "    # Select only numeric columns for correlation matrix\n",
    "    numeric_cols = df.select_dtypes(include=[np.number])\n",
    "    plt.figure(figsize=(12, 10))\n",
    "    print(\"Correlation Matrix:\")\n",
    "    sns.heatmap(numeric_cols.corr(), annot=True, cmap='coolwarm')\n",
    "    plt.show()\n",
    "\n",
    "    # Add more EDA visualizations and analyses as needed"
   ],
   "metadata": {
    "id": "EczG0_thSROp",
    "ExecuteTime": {
     "end_time": "2023-12-18T19:35:42.699464Z",
     "start_time": "2023-12-18T19:35:42.687031Z"
    }
   },
   "execution_count": 27,
   "outputs": []
  },
  {
   "cell_type": "markdown",
   "source": [
    "# Model Creation\n",
    "\n",
    "After exploring and preprocessing our dataset, the next step is to build predictive models. In this section, we will define various machine learning and deep learning models to address our classification problem - predicting customer churn. We aim to explore a range of models, from simple linear classifiers to more complex neural networks, to understand which models perform best for our specific dataset.\n",
    "\n",
    "## Types of Models to be Created\n",
    "\n",
    "1. **Logistic Regression**: A baseline linear model for binary classification problems.\n",
    "2. **Decision Tree and Random Forest**: Non-linear models that are effective for classification and regression tasks.\n",
    "3. **Support Vector Machine (SVM)**: A powerful classifier that works well on a wide range of datasets.\n",
    "4. **K-Nearest Neighbors (KNN)**: A simple, distance-based classifier.\n",
    "5. **Gradient Boosting Classifier**: An ensemble method which combines several weak learners to form a strong learner.\n",
    "6. **Neural Networks**: Deep learning models capable of capturing complex relationships in the data.\n",
    "7. **Recurrent Neural Network (RNN)**: Designed to work with sequence data.\n",
    "8. **Convolutional Neural Network (CNN)**: Typically used for image data but can be adapted for sequence data.\n",
    "9. **Hybrid Models**: Combining different types of neural networks to leverage their individual strengths.\n",
    "\n",
    "Each of these models has its own characteristics and suitability depending on the nature of the data and the problem at hand. We will define functions to create each of these models.\n",
    "\n",
    "## Model Creation Functions\n",
    "\n",
    "We will create separate functions for each model type. These functions will initialize the model with basic parameters and return the model object. This modular approach makes it easy to experiment with different models and compare their performances."
   ],
   "metadata": {
    "id": "oigbyeFwSdWX"
   }
  },
  {
   "cell_type": "code",
   "source": [
    "# Neural Network Model\n",
    "def create_nn_model(input_shape):\n",
    "    model = Sequential([\n",
    "        Dense(128, activation='relu', input_shape=input_shape),\n",
    "        Dropout(0.2),\n",
    "        Dense(64, activation='relu'),\n",
    "        Dense(1, activation='sigmoid')\n",
    "    ])\n",
    "    model.compile(optimizer='adam', loss='binary_crossentropy', metrics=['accuracy'])\n",
    "    return model\n",
    "\n",
    "# Logistic Regression Model\n",
    "def create_logistic_regression_model():\n",
    "    return LogisticRegression()\n",
    "\n",
    "# Decision Tree Classifier\n",
    "def create_decision_tree_model():\n",
    "    return DecisionTreeClassifier()\n",
    "\n",
    "# Random Forest Classifier\n",
    "def create_random_forest_model():\n",
    "    return RandomForestClassifier()\n",
    "\n",
    "# Support Vector Machine (SVM) Model\n",
    "def create_svm_model():\n",
    "    return SVC()\n",
    "\n",
    "# K-Nearest Neighbors (KNN) Model\n",
    "def create_knn_model():\n",
    "    return KNeighborsClassifier()\n",
    "\n",
    "# Gradient Boosting Classifier\n",
    "def create_gradient_boosting_model():\n",
    "    return GradientBoostingClassifier()\n",
    "\n",
    "# Recurrent Neural Network (RNN) Model\n",
    "def create_rnn_model(input_shape):\n",
    "    model = Sequential([\n",
    "        LSTM(50, return_sequences=True, input_shape=input_shape),\n",
    "        LSTM(50),\n",
    "        Dense(1, activation='sigmoid')\n",
    "    ])\n",
    "    model.compile(optimizer='adam', loss='binary_crossentropy', metrics=['accuracy'])\n",
    "    return model\n",
    "\n",
    "# Convolutional Neural Network (CNN) Model\n",
    "def create_cnn_model(input_shape):\n",
    "    model = Sequential([\n",
    "        Reshape(target_shape=input_shape + (1,), input_shape=input_shape),\n",
    "        Conv1D(filters=32, kernel_size=3, activation='relu'),\n",
    "        MaxPooling1D(pool_size=2),\n",
    "        Flatten(),\n",
    "        Dense(64, activation='relu'),\n",
    "        Dense(1, activation='sigmoid')\n",
    "    ])\n",
    "    model.compile(optimizer='adam', loss='binary_crossentropy', metrics=['accuracy'])\n",
    "    return model\n",
    "\n",
    "# Additional models (like hybrid CNN-RNN models) can be defined in a similar manner."
   ],
   "metadata": {
    "id": "5zqvY5FcSzFI",
    "ExecuteTime": {
     "end_time": "2023-12-18T19:35:42.699797Z",
     "start_time": "2023-12-18T19:35:42.691463Z"
    }
   },
   "execution_count": 28,
   "outputs": []
  },
  {
   "cell_type": "markdown",
   "source": [
    "# Training and Evaluation\n",
    "\n",
    "With our models defined, the next crucial step is to train and evaluate them on our dataset. This phase involves feeding the models with training data and then assessing their performance using the test data. The evaluation will help us understand the effectiveness of each model in predicting customer churn and guide us in selecting the best performing model(s) for this specific problem.\n",
    "\n",
    "## Key Steps in Training and Evaluation\n",
    "\n",
    "1. **Model Training**: Fit the models on the training dataset.\n",
    "2. **Model Evaluation**: Use the test dataset to evaluate the models' performance, focusing on metrics like accuracy, precision, recall, and F1-score.\n",
    "3. **Comparison**: Compare the performance of different models to identify the most effective ones.\n",
    "\n",
    "## Train and Evaluate Function\n",
    "\n",
    "We will create a function `train_and_evaluate` that encapsulates the training and evaluation process. This function will take the training and testing datasets as input, along with the preprocessed features and target variable. It will then train each model and provide a summary of their performance."
   ],
   "metadata": {
    "id": "OZyTtcJ0S66Y"
   }
  },
  {
   "cell_type": "code",
   "source": [
    "# Function to train and evaluate models\n",
    "def train_and_evaluate(X_train, X_test, y_train, y_test):\n",
    "    # Train and evaluate Logistic Regression\n",
    "    lr_model = create_logistic_regression_model()\n",
    "    lr_model.fit(X_train, y_train)\n",
    "    print(\"Logistic Regression accuracy:\", accuracy_score(y_test, lr_model.predict(X_test)))\n",
    "\n",
    "    # Train and evaluate Decision Tree\n",
    "    dt_model = create_decision_tree_model()\n",
    "    dt_model.fit(X_train, y_train)\n",
    "    print(\"Decision Tree accuracy:\", accuracy_score(y_test, dt_model.predict(X_test)))\n",
    "\n",
    "    # Train and evaluate Random Forest\n",
    "    rf_model = create_random_forest_model()\n",
    "    rf_model.fit(X_train, y_train)\n",
    "    print(\"Random Forest accuracy:\", accuracy_score(y_test, rf_model.predict(X_test)))\n",
    "\n",
    "    # Train and evaluate SVM\n",
    "    svm_model = create_svm_model()\n",
    "    svm_model.fit(X_train, y_train)\n",
    "    print(\"SVM accuracy:\", accuracy_score(y_test, svm_model.predict(X_test)))\n",
    "\n",
    "    # Train and evaluate KNN\n",
    "    knn_model = create_knn_model()\n",
    "    knn_model.fit(X_train, y_train)\n",
    "    print(\"KNN accuracy:\", accuracy_score(y_test, knn_model.predict(X_test)))\n",
    "\n",
    "    # Train and evaluate Gradient Boosting\n",
    "    gb_model = create_gradient_boosting_model()\n",
    "    gb_model.fit(X_train, y_train)\n",
    "    print(\"Gradient Boosting accuracy:\", accuracy_score(y_test, gb_model.predict(X_test)))\n",
    "\n",
    "    # Train and evaluate Neural Network\n",
    "    nn_model = create_nn_model((X_train.shape[1],))\n",
    "    nn_model.fit(X_train, y_train, epochs=10, batch_size=32)\n",
    "    print(\"Neural Network accuracy:\", accuracy_score(y_test, (nn_model.predict(X_test) > 0.5).astype(int)))\n",
    "\n",
    "    # Additional code to train and evaluate other models like RNN, CNN can be added here.\n",
    "\n",
    "    # Print classification reports for each model\n",
    "    # This can include precision, recall, f1-score for each class"
   ],
   "metadata": {
    "id": "M7uHSeSmTADt",
    "ExecuteTime": {
     "end_time": "2023-12-18T19:35:42.700020Z",
     "start_time": "2023-12-18T19:35:42.696428Z"
    }
   },
   "execution_count": 29,
   "outputs": []
  },
  {
   "cell_type": "markdown",
   "source": [
    "# Hyperparameter Tuning\n",
    "\n",
    "After training and evaluating our initial models, the next step is hyperparameter tuning. This process involves adjusting the parameters of our models to improve their performance. Each model has a set of hyperparameters that control its learning process, and finding the optimal combination of these parameters can significantly enhance the model's accuracy and efficiency.\n",
    "\n",
    "## Objectives of Hyperparameter Tuning\n",
    "\n",
    "1. **Optimization**: Fine-tuning the models to achieve better performance.\n",
    "2. **Balancing Bias and Variance**: To avoid overfitting or underfitting.\n",
    "3. **Improving Generalization**: Ensuring the model performs well on unseen data.\n",
    "\n",
    "## Tuning Process\n",
    "\n",
    "We will use grid search to systematically work through multiple combinations of parameter values, cross-validating as it goes to determine which tune gives the best performance.\n",
    "\n",
    "## Hyperparameter Tuning Function\n",
    "\n",
    "We will create a function `tune_hyperparameters` for the Logistic Regression model as an example. This function will take the training data as input and return the best estimator after performing grid search. Similar functions can be created for other models if required."
   ],
   "metadata": {
    "id": "9d1z7kPLTHL_"
   }
  },
  {
   "cell_type": "code",
   "source": [
    "# Function for hyperparameter tuning of Logistic Regression\n",
    "def tune_hyperparameters(X_train, y_train):\n",
    "    lr_pipeline = Pipeline([\n",
    "        ('classifier', LogisticRegression())\n",
    "    ])\n",
    "\n",
    "    param_grid = {\n",
    "        'classifier__C': [0.1, 1, 10, 100],\n",
    "        'classifier__solver': ['newton-cg', 'lbfgs', 'liblinear']\n",
    "    }\n",
    "\n",
    "    grid_search = GridSearchCV(lr_pipeline, param_grid, cv=5, scoring='accuracy')\n",
    "    grid_search.fit(X_train, y_train)\n",
    "\n",
    "    print(\"Best parameters for Logistic Regression:\", grid_search.best_params_)\n",
    "    return grid_search.best_estimator_"
   ],
   "metadata": {
    "id": "44Kuk5dKUNDj",
    "ExecuteTime": {
     "end_time": "2023-12-18T19:35:42.700846Z",
     "start_time": "2023-12-18T19:35:42.699237Z"
    }
   },
   "execution_count": 30,
   "outputs": []
  },
  {
   "cell_type": "markdown",
   "source": [
    "# Model Interpretation\n",
    "\n",
    "Once we have trained and optimized our models, it's important to interpret their results. Model interpretation involves understanding the decision-making process of the model, which features are most influential, and how those features affect the predictions. This step is crucial, especially in a business context, as it aids in the explanation of model behavior to stakeholders and helps in making informed decisions based on model predictions.\n",
    "\n",
    "## Importance of Model Interpretation\n",
    "\n",
    "1. **Transparency**: Understanding how the model makes decisions.\n",
    "2. **Trustworthiness**: Building confidence in the model's predictions.\n",
    "3. **Actionable Insights**: Identifying which features contribute most to the target variable, guiding business strategies.\n",
    "\n",
    "## Model Interpretation Techniques\n",
    "\n",
    "For logistic regression, we can look at the coefficients to understand the influence of each feature. For tree-based models, we can examine feature importances. In the case of neural networks, techniques like SHAP (SHapley Additive exPlanations) can be used.\n",
    "\n",
    "## Feature Importance Extraction\n",
    "\n",
    "We will demonstrate how to extract feature importance from the Logistic Regression model as an example. Similar methods can be applied to other models as appropriate."
   ],
   "metadata": {
    "id": "d207QUuWUS_8"
   }
  },
  {
   "cell_type": "code",
   "source": [
    "# Function to extract and display feature importance\n",
    "def display_feature_importance(model, feature_names):\n",
    "    # Extract feature importance from the model (if applicable)\n",
    "    if hasattr(model, 'coef_'):\n",
    "        importance = model.coef_[0]\n",
    "    elif hasattr(model, 'feature_importances_'):\n",
    "        importance = model.feature_importances_\n",
    "    else:\n",
    "        print(\"Model does not have feature importance attribute\")\n",
    "        return\n",
    "\n",
    "    # Display feature importance\n",
    "    importance_df = pd.DataFrame({'Feature': feature_names, 'Importance': importance})\n",
    "    importance_df = importance_df.sort_values(by='Importance', ascending=False)\n",
    "    print(importance_df.head(10))  # Display top 10 important features"
   ],
   "metadata": {
    "id": "KveAcVL7UaHE",
    "ExecuteTime": {
     "end_time": "2023-12-18T19:35:42.705158Z",
     "start_time": "2023-12-18T19:35:42.703022Z"
    }
   },
   "execution_count": 31,
   "outputs": []
  },
  {
   "cell_type": "markdown",
   "source": [
    "# Main Function and Execution\n",
    "\n",
    "The final step in our Jupyter Notebook is to consolidate all the components we have developed into a main function. This function orchestrates the entire process of loading data, preprocessing, exploratory data analysis (EDA), model training, evaluation, hyperparameter tuning, and model interpretation. The main function serves as the entry point for running the entire analysis pipeline in a structured and organized manner.\n",
    "\n",
    "## Purpose of the Main Function\n",
    "\n",
    "1. **Organization**: To structure the code logically and clearly.\n",
    "2. **Reusability**: Allows for the entire process to be easily executed multiple times, possibly with different datasets or parameters.\n",
    "3. **Ease of Execution**: Simplifies the execution of the entire pipeline with a single function call.\n",
    "\n",
    "We will define a `main` function that calls the necessary functions in the correct order and displays the results. This function encapsulates our entire data analysis and modeling process."
   ],
   "metadata": {
    "id": "AIUJ42SMUkkL"
   }
  },
  {
   "cell_type": "code",
   "source": [
    "# Main function to run the project\n",
    "def main():\n",
    "    # Load and preprocess the data\n",
    "    filepath = 'data/WA_Fn-UseC_-Telco-Customer-Churn.csv'  # Update with your dataset path\n",
    "    X, y, preprocessor, df = load_and_preprocess_data(filepath)\n",
    "\n",
    "    # Perform EDA\n",
    "    perform_eda(df)\n",
    "\n",
    "    # Apply preprocessing to the entire dataset\n",
    "    X_transformed = preprocessor.fit_transform(X)\n",
    "\n",
    "    # Split the dataset into training and testing sets\n",
    "    X_train, X_test, y_train, y_test = train_test_split(X_transformed, y, test_size=0.2, random_state=42)\n",
    "\n",
    "    # Train and evaluate models on the dataset\n",
    "    train_and_evaluate(X_train, X_test, y_train, y_test)\n",
    "\n",
    "    # Hyperparameter tuning on the Logistic Regression model\n",
    "    best_lr_model = tune_hyperparameters(X_train, y_train)\n",
    "\n",
    "    # Extracting and displaying feature importance for Logistic Regression model\n",
    "    feature_names = preprocessor.get_feature_names_out()\n",
    "    display_feature_importance(best_lr_model, feature_names)\n",
    "\n",
    "# Run the main function\n",
    "if __name__ == \"__main__\":\n",
    "    main()"
   ],
   "metadata": {
    "colab": {
     "base_uri": "https://localhost:8080/",
     "height": 1000
    },
    "id": "l-Qq9e3xUrUr",
    "outputId": "b23ce099-a4b4-4a6f-8dda-80f49b0adda6",
    "ExecuteTime": {
     "end_time": "2023-12-18T19:35:46.753886Z",
     "start_time": "2023-12-18T19:35:42.706121Z"
    }
   },
   "execution_count": 32,
   "outputs": [
    {
     "name": "stdout",
     "output_type": "stream",
     "text": [
      "Statistical Summary:\n",
      "       SeniorCitizen       tenure  MonthlyCharges  TotalCharges\n",
      "count    7043.000000  7043.000000     7043.000000   7043.000000\n",
      "mean        0.162147    32.371149       64.761692   2283.300441\n",
      "std         0.368612    24.559481       30.090047   2265.000258\n",
      "min         0.000000     0.000000       18.250000     18.800000\n",
      "25%         0.000000     9.000000       35.500000    402.225000\n",
      "50%         0.000000    29.000000       70.350000   1400.550000\n",
      "75%         0.000000    55.000000       89.850000   3786.600000\n",
      "max         1.000000    72.000000      118.750000   8684.800000\n",
      "Correlation Matrix:\n"
     ]
    },
    {
     "data": {
      "text/plain": "<Figure size 1200x1000 with 2 Axes>",
      "image/png": "[encoded data removed]"
     },
     "metadata": {},
     "output_type": "display_data"
    },
    {
     "name": "stdout",
     "output_type": "stream",
     "text": [
      "Logistic Regression accuracy: 0.8119233498935415\n",
      "Decision Tree accuracy: 0.7253371185237757\n",
      "Random Forest accuracy: 0.7764371894960965\n",
      "SVM accuracy: 0.8055358410220014\n",
      "KNN accuracy: 0.7743080198722498\n",
      "Gradient Boosting accuracy: 0.8026969481902059\n",
      "Epoch 1/10\n",
      "177/177 [==============================] - 0s 658us/step - loss: 0.4734 - accuracy: 0.7767\n",
      "Epoch 2/10\n",
      "177/177 [==============================] - 0s 640us/step - loss: 0.4434 - accuracy: 0.7856\n",
      "Epoch 3/10\n",
      "177/177 [==============================] - 0s 627us/step - loss: 0.4409 - accuracy: 0.7945\n",
      "Epoch 4/10\n",
      "177/177 [==============================] - 0s 641us/step - loss: 0.4394 - accuracy: 0.7922\n",
      "Epoch 5/10\n",
      "177/177 [==============================] - 0s 643us/step - loss: 0.4365 - accuracy: 0.7934\n",
      "Epoch 6/10\n",
      "177/177 [==============================] - 0s 676us/step - loss: 0.4364 - accuracy: 0.7920\n",
      "Epoch 7/10\n",
      "177/177 [==============================] - 0s 659us/step - loss: 0.4334 - accuracy: 0.7934\n",
      "Epoch 8/10\n",
      "177/177 [==============================] - 0s 636us/step - loss: 0.4326 - accuracy: 0.7955\n",
      "Epoch 9/10\n",
      "177/177 [==============================] - 0s 663us/step - loss: 0.4348 - accuracy: 0.7943\n",
      "Epoch 10/10\n",
      "177/177 [==============================] - 0s 651us/step - loss: 0.4337 - accuracy: 0.7941\n",
      "45/45 [==============================] - 0s 389us/step\n",
      "Neural Network accuracy: 0.8112136266855926\n",
      "Best parameters for Logistic Regression: {'classifier__C': 1, 'classifier__solver': 'newton-cg'}\n",
      "Model does not have feature importance attribute\n"
     ]
    }
   ]
  },
  {
   "cell_type": "markdown",
   "source": [
    "# Conclusion\n",
    "\n",
    "As we reach the end of this Jupyter Notebook, it's important to reflect on what we have accomplished and consider next steps. Throughout this notebook, we have explored and preprocessed a dataset, performed exploratory data analysis (EDA), built and evaluated several machine learning models, tuned hyperparameters, and interpreted the results. This comprehensive approach provided us with valuable insights into the problem of customer churn in the telecommunications industry.\n",
    "\n",
    "## Key Takeaways\n",
    "\n",
    "- **Data Preprocessing**: We learned the importance of properly preparing data for analysis, including handling missing values and encoding categorical variables.\n",
    "- **Model Selection and Evaluation**: We observed how different models perform on the same dataset and understood the significance of model evaluation metrics.\n",
    "- **Hyperparameter Tuning**: The process demonstrated the impact of fine-tuning model parameters on performance.\n",
    "- **Model Interpretation**: We emphasized the importance of understanding the factors that drive the model's predictions.\n",
    "\n",
    "## Future Work\n",
    "\n",
    "- **Further Model Exploration**: Experimenting with more advanced models or ensemble techniques.\n",
    "- **Feature Engineering**: Creating new features or further transforming existing ones to improve model performance.\n",
    "- **Data Augmentation**: Gathering more data or using techniques to artificially increase the dataset size for better generalization.\n",
    "- **Deployment and Monitoring**: Deploying the best model in a real-world setting and continuously monitoring its performance.\n",
    "\n",
    "By following the structured approach outlined in this notebook, we have developed a robust framework for tackling a classification problem. This methodology can be adapted and applied to various other data science and machine learning tasks."
   ],
   "metadata": {
    "id": "X3AoBaR4ZleF"
   }
  }
 ]
}
